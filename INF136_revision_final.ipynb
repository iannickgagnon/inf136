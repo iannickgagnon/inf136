{
  "nbformat": 4,
  "nbformat_minor": 0,
  "metadata": {
    "colab": {
      "provenance": []
    },
    "kernelspec": {
      "name": "python3",
      "display_name": "Python 3"
    },
    "language_info": {
      "name": "python"
    }
  },
  "cells": [
    {
      "cell_type": "markdown",
      "source": [
        "# PRÉFACE - Révision pour le final\n",
        "\n",
        "Par : Iannick Gagnon, Professeur Enseignant au SEG\n",
        "\n",
        "Version : E2023\n",
        "\n",
        "Prenez connaissance du code de départ sur lequel repose ce document et exécutez-les :"
      ],
      "metadata": {
        "id": "lGnTq8t0ou09"
      }
    },
    {
      "cell_type": "code",
      "source": [
        "from random import randint"
      ],
      "metadata": {
        "id": "Pd7KquMYOgOG"
      },
      "execution_count": null,
      "outputs": []
    },
    {
      "cell_type": "code",
      "source": [
        "def vecteur_init(dx, dy):\n",
        "  '''\n",
        "  Fonction d'initialisation d'un vecteur.\n",
        "\n",
        "  Arguments:\n",
        "    dx (int): Déplacement en x.\n",
        "    dy (int): Déplacement en y.\n",
        "\n",
        "  Retourne:\n",
        "    (dict): Le vecteur initialisé.\n",
        "  '''\n",
        "\n",
        "  return {'dx': dx, 'dy': dy, 'longueur': None}"
      ],
      "metadata": {
        "id": "uRLQvQB7Odgx"
      },
      "execution_count": null,
      "outputs": []
    },
    {
      "cell_type": "markdown",
      "source": [
        "# Question 1a - Générer une liste de vecteurs aléatoires\n",
        "\n",
        "Implémentez la fonction dont l'en-tête est la suivante:\n",
        "\n",
        "```\n",
        "  \"\"\"\n",
        "  Initialise une liste de vecteurs aléatoires.\n",
        "\n",
        "  Arguments:\n",
        "    nb_vecteurs (int, optionnel): Nombre de vecteurs. Valeur par défaut de 10.\n",
        "    delta_min (int, optionnel): Déplacement minimal. Valeur par défaut de -50.\n",
        "    delta_max (int, optionnel): Déplacement maximal. Valeur par défaut de 50.\n",
        "\n",
        "  Retourne:\n",
        "    (list): Liste de vecteurs aléatoires.\n",
        "  \"\"\"\n",
        "```\n",
        "\n",
        "**Remarques:** Utilisez la fonction `randint(a,b)` de la librairie `random` pour générer des entiers aléatoires entre `a` et `b` inclusivement.\n",
        "\n",
        "La liste résultante doit être construite par concaténation (list.append)."
      ],
      "metadata": {
        "id": "VrobBEKVfOUn"
      }
    },
    {
      "cell_type": "code",
      "source": [
        "# Écrivez votre réponse ici"
      ],
      "metadata": {
        "id": "1pdqA8msXTjz"
      },
      "execution_count": null,
      "outputs": []
    },
    {
      "cell_type": "markdown",
      "source": [
        "# Question 1b - Refactoriser du code\n",
        "\n",
        "Refactorisez votre solution en utilisant une boucle `for` de la forme suivante (c.-à-d. sans préallocation) :\n",
        "\n",
        "```\n",
        "for i in range(len(iterable)):\n",
        "   iterable[i] = ...\n",
        "```"
      ],
      "metadata": {
        "id": "0XP8wiq_ytrm"
      }
    },
    {
      "cell_type": "code",
      "source": [
        "# Écrivez votre réponse ici"
      ],
      "metadata": {
        "id": "lufItuN3XSEE"
      },
      "execution_count": null,
      "outputs": []
    },
    {
      "cell_type": "markdown",
      "source": [
        "\n",
        "# Question 1c - Refactoriser du code\n",
        "\n",
        "Refactorisez votre solution en utilisant une boucle `while`."
      ],
      "metadata": {
        "id": "kbmAVZi2YKYv"
      }
    },
    {
      "cell_type": "code",
      "source": [
        "# Écrivez votre réponse ici"
      ],
      "metadata": {
        "id": "Hq-ZivuMYKnx"
      },
      "execution_count": null,
      "outputs": []
    },
    {
      "cell_type": "markdown",
      "source": [
        "# Question 2 - Calculez la longueur d'un vecteur\n",
        "\n",
        "Écrivez une fonction nommée `vecteur_calculer_longueur` qui reçoit un vecteur sous la forme d'un dictionnaire et qui retourne sa longueur ($l$) en utilisant la loi de Pythagore : \n",
        "\n",
        "$$l=\\sqrt{\\Delta x^{2} + \\Delta y^{2}}$$"
      ],
      "metadata": {
        "id": "4VqFOtP1fscA"
      }
    },
    {
      "cell_type": "code",
      "source": [
        "# Écrivez votre réponse ici"
      ],
      "metadata": {
        "id": "I3gRj2XwXRPT"
      },
      "execution_count": null,
      "outputs": []
    },
    {
      "cell_type": "markdown",
      "source": [
        "# Question 3 - Calculez et stockez la longueur des vecteurs d'une liste\n",
        "\n",
        "Écrivez une fonction nommée `vecteur_liste_ajouter_longueur` qui reçoit une liste de vecteurs et qui calcule chacune des longueurs et les stockent dans ces derniers.\n",
        "\n",
        "Par exemple, la liste qui suit :\n",
        "\n",
        "```\n",
        "[{'dx': 30, 'dy': 45, 'longueur': None}, \n",
        " {'dx': -3, 'dy': -7, 'longueur': None}, \n",
        " {'dx': -6, 'dy': 17, 'longueur': None}]\n",
        "```\n",
        "\n",
        "Deviendra : \n",
        "\n",
        "```\n",
        "[{'dx': 30, 'dy': 45, 'longueur': 54.08326913195984}, \n",
        " {'dx': -3, 'dy': -7, 'longueur': 7.615773105863909}, \n",
        " {'dx': -6, 'dy': 17, 'longueur': 18.027756377319946}]\n",
        "```"
      ],
      "metadata": {
        "id": "AA_olszdgPko"
      }
    },
    {
      "cell_type": "code",
      "source": [
        "# Écrivez votre réponse ici"
      ],
      "metadata": {
        "id": "au2BWRYJYesS"
      },
      "execution_count": null,
      "outputs": []
    },
    {
      "cell_type": "markdown",
      "source": [
        "# Question 4 - Affichage formaté d'une liste de vecteurs\n",
        "\n",
        "Écrivez une fonction nommée `vecteur_liste_afficher` qui reçoit une liste de vecteurs et qui fait un affichage formaté conditionnel. Par *conditionnel*, on entend que la longueur est affichée si elle existe, sinon elle ne l'est pas.\n",
        "$$$$\n",
        "\n",
        "Par exemple, considérez la liste de vecteurs suivante :\n",
        "```\n",
        "[{'dx': 25, 'dy': 10, 'longueur': 26.92582403567252}, \n",
        " {'dx': -22, 'dy': 18, 'longueur': None},\n",
        " {'dx': 28, 'dy': 32, 'longueur': 42.5205832509386}]\n",
        "```\n",
        "Voici comment elle serait affichée par votre programme :\n",
        "```\n",
        "Vecteur no.1:\n",
        "\n",
        "\tdx = 25\n",
        "\tdy = 10\n",
        "\tlongueur = 26.93\n",
        "\n",
        "Vecteur no.2:\n",
        "\n",
        "\tdx = -22\n",
        "\tdy = 18\n",
        "\n",
        "Vecteur no.3:\n",
        "\n",
        "\tdx = 28\n",
        "\tdy = 32\n",
        "\tlongueur = 42.52\n",
        "```\n",
        "\n"
      ],
      "metadata": {
        "id": "z0naGbVRhQgt"
      }
    },
    {
      "cell_type": "code",
      "source": [
        "# Écrivez votre réponse ici"
      ],
      "metadata": {
        "id": "SoF-6TdMXgMD"
      },
      "execution_count": null,
      "outputs": []
    },
    {
      "cell_type": "markdown",
      "source": [
        "# Question 5 - Trier une liste de vecteurs en ordre croissant de longueurs\n",
        "\n",
        "Écrivez une fonction nommée `vecteur_liste_trier_ordre_croissant_longueur` qui reçoit une liste de vecteurs et qui la trie en ordre croissant de longueurs **sans créer de liste intermédiaire**.\n",
        "\n",
        "**Remarque:** Vous ne pouvez pas utiliser les fonctions prédéfinies de tri comme la suivante : `sorted(liste_vecteurs, key = lambda v : v['longueur'])`."
      ],
      "metadata": {
        "id": "CqQrPBg0jvHY"
      }
    },
    {
      "cell_type": "code",
      "source": [
        "# Écrivez votre réponse ici"
      ],
      "metadata": {
        "id": "iBphtAQcYnfD"
      },
      "execution_count": null,
      "outputs": []
    },
    {
      "cell_type": "markdown",
      "source": [
        "# Question 6 - Sauvegarder une liste de vecteurs\n",
        "\n",
        "Écrivez une fonction nommée `vecteur_liste_sauvegarder` qui reçoit une liste de vecteurs et un nom de fichier (p. ex. `'vecteurs.txt'`) et qui sérialise la liste suivant le format donné : \n",
        "\n",
        "```\n",
        "Liste de 10 vecteurs sérialisés:\n",
        "\tdx=0,dy=-17,longueur=17.0\n",
        "\tdx=-27,dy=-18\n",
        "\tdx=-14,dy=-12,longueur=18.439088914585774\n",
        "\tdx=-19,dy=-19\n",
        "\tdx=-16,dy=18,longueur=24.08318915758459\n",
        "\tdx=-49,dy=24\n",
        "\tdx=46,dy=-43,longueur=62.96824596572466\n",
        "\tdx=36,dy=-18\n",
        "\tdx=-7,dy=-49,longueur=49.49747468305833\n",
        "\tdx=-24,dy=-48\n",
        "```\n",
        "**Remarque:** Si la longueur ne se trouve pas dans le vecteur, on ne la sauvegarde pas.\n",
        "\n",
        "\n"
      ],
      "metadata": {
        "id": "9rb_zLcakw9V"
      }
    },
    {
      "cell_type": "code",
      "source": [
        "# Écrivez votre réponse ici"
      ],
      "metadata": {
        "id": "UGVHfKlmXjUj"
      },
      "execution_count": null,
      "outputs": []
    },
    {
      "cell_type": "markdown",
      "source": [
        "# Question 7 - Charger une liste de vecteurs\n",
        "\n",
        "Écrivez une fonction nommée `vecteur_liste_charger` qui reçoit le nom d'un fichier d'une sauvegarde suivant le format de la Question 6 et qui recrée la liste de vecteurs à partir de celle-ci."
      ],
      "metadata": {
        "id": "6AjaxbIJlpoG"
      }
    },
    {
      "cell_type": "code",
      "source": [
        "# Écrivez votre réponse ici"
      ],
      "metadata": {
        "id": "HLkGFD1kXksS"
      },
      "execution_count": null,
      "outputs": []
    },
    {
      "cell_type": "markdown",
      "source": [
        "# Question 8 - Tracer une liste de vecteurs\n",
        "\n",
        "Écrivez une fonction nommée `vecteur_liste_tracer` qui reçoit une liste de vecteurs et qui reproduit un affichage semblable au suivant :\n",
        "$$$$\n",
        "![image.png](data:image/png;base64,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)"
      ],
      "metadata": {
        "id": "M1sfOAMamYYg"
      }
    },
    {
      "cell_type": "code",
      "source": [
        "# Écrivez votre réponse ici"
      ],
      "metadata": {
        "id": "L8XXrzo3XmgD"
      },
      "execution_count": null,
      "outputs": []
    },
    {
      "cell_type": "markdown",
      "source": [
        "# ANNEXE - Script pour tester vos sous-programmes\n",
        "\n",
        "Voici un script que vous pouvez exécuter partiellement (au besoin) pour tester vos sous-programmes."
      ],
      "metadata": {
        "id": "lnPt6h-unP_R"
      }
    },
    {
      "cell_type": "code",
      "source": [
        "# Initialiser une liste aléatoire\n",
        "liste_vecteurs = vecteur_generer_liste_aleatoire()\n",
        "\n",
        "# Calculer la longueur d'un vecteur sur deux\n",
        "for i in range(0, len(liste_vecteurs), 2):\n",
        "  liste_vecteurs[i]['longueur'] = vecteur_calculer_longueur(liste_vecteurs[i])\n",
        "\n",
        "# Afficher la liste\n",
        "print(f'liste sauvegardée : {liste_vecteurs}')\n",
        "\n",
        "# Sauvegarder la liste\n",
        "vecteur_liste_sauvegarder(liste_vecteurs, 'vecteurs.txt')\n",
        "\n",
        "# Recharger la liste\n",
        "liste_vecteurs_chargee = vecteur_liste_charger('vecteurs.txt')\n",
        "\n",
        "# Afficher la liste chargée\n",
        "print(f'liste chargée     : {liste_vecteurs_chargee}')\n",
        "\n",
        "# Tracer la liste\n",
        "vecteur_liste_tracer(liste_vecteurs)"
      ],
      "metadata": {
        "id": "0ic9uVO0eJ_y"
      },
      "execution_count": null,
      "outputs": []
    }
  ]
}